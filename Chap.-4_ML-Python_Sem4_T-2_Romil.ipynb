{
 "cells": [
  {
   "cell_type": "markdown",
   "id": "607de285",
   "metadata": {},
   "source": [
    "# Chap. - 4 Machine Learning with Python"
   ]
  },
  {
   "cell_type": "code",
   "execution_count": 1,
   "id": "6c75492a",
   "metadata": {},
   "outputs": [
    {
     "name": "stdout",
     "output_type": "stream",
     "text": [
      "   age    city\n",
      "0   18  city-A\n",
      "1   20  city-B\n",
      "2   23  city-B\n",
      "3   19  city-A\n",
      "4   18  city-C\n",
      "5   22  city-B\n",
      "   age  city_city-A  city_city-B  city_city-C\n",
      "0   18            1            0            0\n",
      "1   20            0            1            0\n",
      "2   23            0            1            0\n",
      "3   19            1            0            0\n",
      "4   18            0            0            1\n",
      "5   22            0            1            0\n"
     ]
    }
   ],
   "source": [
    "import pandas as pd\n",
    "df = pd.DataFrame(\n",
    "    {'age':[18,20,23,19,18,22],\n",
    "    'city':['city-A','city-B','city-B','city-A','city-C','city-B']})\n",
    "n_df = pd.get_dummies(df)\n",
    "print(df)\n",
    "print(n_df)"
   ]
  },
  {
   "cell_type": "markdown",
   "id": "9d9077db",
   "metadata": {},
   "source": [
    "- ## drops first column"
   ]
  },
  {
   "cell_type": "code",
   "execution_count": 2,
   "id": "a0c55b3e",
   "metadata": {},
   "outputs": [
    {
     "name": "stdout",
     "output_type": "stream",
     "text": [
      "   age    city\n",
      "0   18  city-A\n",
      "1   20  city-B\n",
      "2   23  city-B\n",
      "3   19  city-A\n",
      "4   18  city-C\n",
      "5   22  city-B\n",
      "   age  city_city-B  city_city-C\n",
      "0   18            0            0\n",
      "1   20            1            0\n",
      "2   23            1            0\n",
      "3   19            0            0\n",
      "4   18            0            1\n",
      "5   22            1            0\n"
     ]
    }
   ],
   "source": [
    "import pandas as pd\n",
    "df = pd.DataFrame(\n",
    "    {'age':[18,20,23,19,18,22],\n",
    "    'city':['city-A','city-B','city-B','city-A','city-C','city-B']})\n",
    "n_df = pd.get_dummies(df, drop_first=True)\n",
    "print(df)\n",
    "print(n_df)"
   ]
  },
  {
   "cell_type": "code",
   "execution_count": 4,
   "id": "de17c7ed",
   "metadata": {},
   "outputs": [
    {
     "name": "stdout",
     "output_type": "stream",
     "text": [
      "   age  n_df\n",
      "0   18    23\n",
      "1   20    25\n",
      "2   23    28\n",
      "3   19    24\n",
      "4   18    23\n",
      "5   22    27\n"
     ]
    }
   ],
   "source": [
    "import pandas as pd\n",
    "df = pd.DataFrame(\n",
    "    {'age':[18,20,23,19,18,22]})\n",
    "\n",
    "df['n_df']=df['age'] + 5\n",
    "print(df)"
   ]
  },
  {
   "cell_type": "markdown",
   "id": "9b8effe7",
   "metadata": {},
   "source": [
    "- ### Birth year is given and add age"
   ]
  },
  {
   "cell_type": "code",
   "execution_count": 9,
   "id": "16d5b151",
   "metadata": {},
   "outputs": [
    {
     "name": "stdout",
     "output_type": "stream",
     "text": [
      "     by  age\n",
      "0  1990   35\n",
      "1  1993   32\n",
      "2  2000   25\n",
      "3  2006   19\n",
      "4  2010   15\n",
      "5  2022    3\n"
     ]
    }
   ],
   "source": [
    "df = pd.DataFrame({\n",
    "    'by':[1990,1993,2000,2006,2010,2022]\n",
    "})\n",
    "df['age']= 2025 - df['by']\n",
    "print(df)"
   ]
  },
  {
   "cell_type": "code",
   "execution_count": 13,
   "id": "1da1e957",
   "metadata": {},
   "outputs": [
    {
     "name": "stdout",
     "output_type": "stream",
     "text": [
      "   length  breadth  area\n",
      "0      18       20   360\n",
      "1      20       20   400\n",
      "2      10       10   100\n",
      "3      12       11   132\n",
      "4      18       19   342\n",
      "5      11       10   110\n"
     ]
    }
   ],
   "source": [
    "df = pd.DataFrame({\n",
    "    'length':[18,20,10,12,18,11],\n",
    "    'breadth':[20,20,10,11,19,10]\n",
    "})\n",
    "df['area']=df['length']*df['breadth']\n",
    "print(df)"
   ]
  },
  {
   "cell_type": "markdown",
   "id": "de5a7c77",
   "metadata": {},
   "source": [
    "## P.b.-170"
   ]
  },
  {
   "cell_type": "code",
   "execution_count": 22,
   "id": "3bd34d66",
   "metadata": {},
   "outputs": [
    {
     "name": "stdout",
     "output_type": "stream",
     "text": [
      "   area    price   Range\n",
      "0  4720  2360000  Medium\n",
      "1  2430  1215000     Low\n",
      "2  4368  1984500  Medium\n",
      "3  3969  3071000    High\n",
      "4  6142  3956000    High\n",
      "5  7912  1500000  Medium\n"
     ]
    }
   ],
   "source": [
    "import pandas as pd\n",
    "\n",
    "df = pd.DataFrame({\n",
    "    'area': [4720, 2430, 4368, 3969, 6142, 7912],\n",
    "    'price': [2360000, 1215000, 1984500, 3071000, 3956000, 1500000]\n",
    "})\n",
    "\n",
    "# Initialize an empty list to store categories\n",
    "categories = []\n",
    "\n",
    "for price in df['price']:\n",
    "    if price > 3000000:\n",
    "        categories.append('High')\n",
    "    elif price < 1500000:\n",
    "        categories.append('Low')\n",
    "    else:\n",
    "        categories.append('Medium')\n",
    "\n",
    "df['Range'] = categories\n",
    "print(df)"
   ]
  },
  {
   "cell_type": "code",
   "execution_count": 17,
   "id": "7f2a584f",
   "metadata": {},
   "outputs": [
    {
     "name": "stdout",
     "output_type": "stream",
     "text": [
      "   area    price     cat\n",
      "0  4720  2360000  Medium\n",
      "1  2430  1215000     Low\n",
      "2  4368  1984500  Medium\n",
      "3  3969  3071000    High\n",
      "4  6142  3956000    High\n",
      "5  7912  1500000  Medium\n"
     ]
    }
   ],
   "source": [
    "import pandas as pd\n",
    "import numpy as np\n",
    "\n",
    "df = pd.DataFrame({\n",
    "    'area': [4720, 2430, 4368, 3969, 6142, 7912],\n",
    "    'price': [2360000, 1215000, 1984500, 3071000, 3956000, 1500000]\n",
    "})\n",
    "\n",
    "df['cat'] = np.where(df['price'] > 3000000, 'High',\n",
    "                     np.where(df['price'] < 1500000, 'Low', 'Medium'))\n",
    "\n",
    "print(df)"
   ]
  },
  {
   "cell_type": "code",
   "execution_count": 21,
   "id": "0c297b1b",
   "metadata": {},
   "outputs": [
    {
     "name": "stdout",
     "output_type": "stream",
     "text": [
      "   area    price     cat\n",
      "0  4720  2360000  Medium\n",
      "1  2430  1215000     Low\n",
      "2  4368  1984500  Medium\n",
      "3  3969  3071000    High\n",
      "4  6142  3956000    High\n",
      "5  7912  1500000  Medium\n"
     ]
    }
   ],
   "source": [
    "import pandas as pd\n",
    "\n",
    "df = pd.DataFrame({\n",
    "    'area': [4720, 2430, 4368, 3969, 6142, 7912],\n",
    "    'price': [2360000, 1215000, 1984500, 3071000, 3956000, 1500000]\n",
    "})\n",
    "\n",
    "def categorize(price):\n",
    "    if price > 3000000:\n",
    "        return 'High'\n",
    "    elif price < 1500000:\n",
    "        return 'Low'\n",
    "    else:\n",
    "        return 'Medium'\n",
    "\n",
    "df['cat'] = df['price'].apply(categorize)\n",
    "\n",
    "print(df)"
   ]
  },
  {
   "cell_type": "markdown",
   "id": "d81916c8",
   "metadata": {},
   "source": [
    "## P.b.-171"
   ]
  },
  {
   "cell_type": "code",
   "execution_count": 3,
   "id": "0f55c457",
   "metadata": {},
   "outputs": [
    {
     "name": "stdout",
     "output_type": "stream",
     "text": [
      "   age    age_group\n",
      "0   25        Young\n",
      "1   32  Middle-aged\n",
      "2   45  Middle-aged\n",
      "3   61      Elderly\n",
      "4   18        Young\n",
      "5   55  Middle-aged\n",
      "6   70      Elderly\n",
      "7   29        Young\n",
      "8   30  Middle-aged\n",
      "9   60  Middle-aged\n"
     ]
    }
   ],
   "source": [
    "import pandas as pd\n",
    "import numpy as np\n",
    "\n",
    "df = pd.DataFrame({\n",
    "    'age': [25, 32, 45, 61, 18, 55, 70, 29, 30, 60]\n",
    "})\n",
    "\n",
    "df['age_group'] = np.where(df['age'] < 30, 'Young',\n",
    "                  np.where(df['age'] <= 60, 'Middle-aged', \n",
    "                  'Elderly'))\n",
    "\n",
    "print(df)"
   ]
  },
  {
   "cell_type": "markdown",
   "id": "fde6b953",
   "metadata": {},
   "source": [
    "## P.b.-173"
   ]
  },
  {
   "cell_type": "code",
   "execution_count": 4,
   "id": "afac287d",
   "metadata": {},
   "outputs": [
    {
     "name": "stdout",
     "output_type": "stream",
     "text": [
      "   income income_category\n",
      "0   25000             Low\n",
      "1   42000          Medium\n",
      "2   85000            High\n",
      "3   19000             Low\n",
      "4   70000          Medium\n",
      "5   30000          Medium\n",
      "6   71000            High\n"
     ]
    }
   ],
   "source": [
    "df = pd.DataFrame({\n",
    "    'income': [25000, 42000, 85000, 19000, 70000, 30000, 71000]\n",
    "})\n",
    "\n",
    "df['income_category'] = np.where(df['income'] < 30000, 'Low',\n",
    "                        np.where(df['income'] <= 70000, 'Medium', \n",
    "                        'High'))\n",
    "\n",
    "print(df)"
   ]
  },
  {
   "cell_type": "code",
   "execution_count": 9,
   "id": "cc53dc69",
   "metadata": {},
   "outputs": [
    {
     "name": "stdout",
     "output_type": "stream",
     "text": [
      "    age age_group\n",
      "0    10       Kid\n",
      "1    12       Kid\n",
      "2    15     Young\n",
      "3    19     Young\n",
      "4    22     Young\n",
      "5    30     Young\n",
      "6    35     Young\n",
      "7    55     Young\n",
      "8    56     Young\n",
      "9    92   Elderly\n",
      "10   70   Elderly\n",
      "11   25     Young\n",
      "12   32     Young\n",
      "13   45     Young\n",
      "14   61   Elderly\n",
      "15   18     Young\n",
      "16   55     Young\n",
      "17   70   Elderly\n",
      "18   29     Young\n",
      "19   30     Young\n",
      "20   60   Elderly\n",
      "21   97   Elderly\n"
     ]
    }
   ],
   "source": [
    "import pandas as pd\n",
    "import numpy as np\n",
    "\n",
    "df = pd.DataFrame({\n",
    "    'age': [10,12,15,19,22,30,35,55,56,92,70,25, 32, 45, 61, 18, 55, 70, 29, 30, 60,97]\n",
    "})\n",
    "\n",
    "df['age_group'] = np.where(df['age'] < 15, 'Kid',\n",
    "                  np.where(df['age'] < 60, 'Young',\n",
    "                  np.where(df['age'] < 60, 'Middle-aged',\n",
    "                  'Elderly')))\n",
    "print(df)"
   ]
  }
 ],
 "metadata": {
  "kernelspec": {
   "display_name": "Python 3 (ipykernel)",
   "language": "python",
   "name": "python3"
  },
  "language_info": {
   "codemirror_mode": {
    "name": "ipython",
    "version": 3
   },
   "file_extension": ".py",
   "mimetype": "text/x-python",
   "name": "python",
   "nbconvert_exporter": "python",
   "pygments_lexer": "ipython3",
   "version": "3.8.5"
  }
 },
 "nbformat": 4,
 "nbformat_minor": 5
}
